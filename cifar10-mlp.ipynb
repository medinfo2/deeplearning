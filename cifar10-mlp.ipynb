{
 "cells": [
  {
   "cell_type": "markdown",
   "metadata": {},
   "source": [
    "# はじめに\n",
    "\n",
    "Cifarとは、一般物体認識のベンチマークです。CifarはCifar-10とCifar-100に分かれ、数字はクラス数を表します。10は10クラス、100は100クラスをそれぞれ表すわけです。とはいえ、あまり良いCPUを持っていない中で演習をするので、今回はCifar-10で、一般物体認識をしていきましょう。\n",
    "\n",
    "![Cifar-10の一部](http://cdn-ak.f.st-hatena.com/images/fotolife/a/aidiary/20151014/20151014211729.png)\n",
    "\n",
    "では、まずCifar-10のデータセットの読み込みから始めましょう。\n",
    "\n",
    "```\n",
    "$ wget https://www.cs.toronto.edu/~kriz/cifar-10-python.tar.gz\n",
    "```\n",
    "\n",
    "上記のコマンドで、cifar-10のpython versionをダウンロードして展開してみましょう。\n",
    "\n",
    "```\n",
    "$ tar xzf cifar-10-python.tar.gz\n",
    "```\n",
    "\n",
    "これで作られたcifar-10-batches-pyというディレクトリを使って作業していきます。\n",
    "\n",
    "```\n",
    "$ ls cifar-10-batches-py\n",
    "batches.meta data_batch_1 data_batch_2 data_batch_3 data_batch_4 data_batch_5 readme.html  test_batch\n",
    "```\n",
    "\n",
    "ディレクトリの中身を見ると、batch_Xと呼ばれる5つのデータとtest_batch, readmeとなんだかわからないmetaファイルが入っています。readmeを読んでみましょう。どうやら、cifarのページそのままのようです。見るべき部分を抜粋すると、\n",
    "\n",
    "> The archive contains the files data_batch_1, data_batch_2, ..., data_batch_5, as well as test_batch. Each of these files is a Python \"pickled\" object produced with cPickle. Here is a Python routine which will open such a file and return a dictionary:\n",
    "\n",
    "```\n",
    "def unpickle(file):\n",
    "    import cPickle\n",
    "    fo = open(file, 'rb')\n",
    "    dict = cPickle.load(fo)\n",
    "    fo.close()\n",
    "    return dict\n",
    "```\n",
    "\n",
    "と書いてあるので、指示通りに作ってみましょう。"
   ]
  },
  {
   "cell_type": "code",
   "execution_count": 8,
   "metadata": {
    "collapsed": false
   },
   "outputs": [
    {
     "name": "stdout",
     "output_type": "stream",
     "text": [
      "data_batch_1 : <type 'dict'>\n",
      "\tdata : <type 'numpy.ndarray'>\n",
      "\tlabels : <type 'list'>\n",
      "\tbatch_label : <type 'str'>\n",
      "\tfilenames : <type 'list'>\n",
      "data_batch_2 : <type 'dict'>\n",
      "\tdata : <type 'numpy.ndarray'>\n",
      "\tlabels : <type 'list'>\n",
      "\tbatch_label : <type 'str'>\n",
      "\tfilenames : <type 'list'>\n",
      "data_batch_3 : <type 'dict'>\n",
      "\tdata : <type 'numpy.ndarray'>\n",
      "\tlabels : <type 'list'>\n",
      "\tbatch_label : <type 'str'>\n",
      "\tfilenames : <type 'list'>\n",
      "data_batch_4 : <type 'dict'>\n",
      "\tdata : <type 'numpy.ndarray'>\n",
      "\tlabels : <type 'list'>\n",
      "\tbatch_label : <type 'str'>\n",
      "\tfilenames : <type 'list'>\n",
      "data_batch_5 : <type 'dict'>\n",
      "\tdata : <type 'numpy.ndarray'>\n",
      "\tlabels : <type 'list'>\n",
      "\tbatch_label : <type 'str'>\n",
      "\tfilenames : <type 'list'>\n"
     ]
    }
   ],
   "source": [
    "import os\n",
    "import cPickle as pickle\n",
    "\n",
    "for root, dirs, files in os.walk('cifar-10-batches-py'):\n",
    "    for fname in files:\n",
    "        if fname.find('data_batch_') >= 0:\n",
    "            path = os.path.join(root, fname)\n",
    "            with open(path, 'rb') as fp:\n",
    "                data = pickle.load(fp)\n",
    "                print fname, \":\", type(data)\n",
    "                for k, v in data.items():\n",
    "                    print '\\t', k, ':', type(v)"
   ]
  },
  {
   "cell_type": "markdown",
   "metadata": {},
   "source": [
    "さてデータの素性が分かりました。各バッチには、辞書型のオブジェクトが入っていて、その要素にdata, labels, batch_labels, filenamesが入っているらしいですね。では、それぞれの要素を見ていきましょう。今回は、data_batch_1のみを見ていくことにして、また、labels, filenamesにはたくさんのデータが入っていそうなので、最初の10要素だけ表示します。"
   ]
  },
  {
   "cell_type": "code",
   "execution_count": 13,
   "metadata": {
    "collapsed": false
   },
   "outputs": [
    {
     "name": "stdout",
     "output_type": "stream",
     "text": [
      "data:  (10000, 3072)\n",
      "labels:  [6, 9, 9, 4, 1, 1, 2, 7, 8, 3]\n",
      "batch_label:  training batch 1 of 5\n",
      "filenames:  ['leptodactylus_pentadactylus_s_000004.png', 'camion_s_000148.png', 'tipper_truck_s_001250.png', 'american_elk_s_001521.png', 'station_wagon_s_000293.png', 'coupe_s_001735.png', 'cassowary_s_001300.png', 'cow_pony_s_001168.png', 'sea_boat_s_001584.png', 'tabby_s_001355.png']\n"
     ]
    }
   ],
   "source": [
    "with open('cifar-10-batches-py/data_batch_1', 'rb') as fp:\n",
    "    data = pickle.load(fp)\n",
    "    print 'data: ', data['data'].shape\n",
    "    print 'labels: ', data['labels'][:10]\n",
    "    print 'batch_label: ',  data['batch_label']\n",
    "    print 'filenames: ', data['filenames'][:10]\n"
   ]
  },
  {
   "cell_type": "markdown",
   "metadata": {},
   "source": [
    "ここでの出力から、dataには一つ3072次元のデータが10000個入っていて、labelはおそらく0-9の数字が入っているリスト型であり、batch_labelはこのバッチファイルの説明で、pngファイルは、それぞれのエントリのファイル名っぽいことがわかりました。ここで、batch_label, filenamesは学習に必要ないから省くことにします。\n",
    "\n",
    "まあ、そんなこと調べんでも書いてありますが、\n",
    "\n",
    "> data -- a 10000x3072 numpy array of uint8s. Each row of the array stores a 32x32 colour image. The first 1024 entries contain the red channel values, the next 1024 the green, and the final 1024 the blue. The image is stored in row-major order, so that the first 32 entries of the array are the red channel values of the first row of the image.\n",
    "> labels -- a list of 10000 numbers in the range 0-9. The number at index i indicates the label of the ith image in the array data.\n",
    "\n",
    "さて、本当は、バッチファイル群をぜんぶ結合させて一つの学習セットを作ったほうが良いのでしょうが、次元数がMNISTの4倍ちかくあるので、この時点で4倍の計算量が必要であることがわかります。これを、全部学習するのはサンプルの段階では得策ではありません。とりあえず、batch一つで試してみましょう。ということで、このバッチファイルの中にあるデータに偏りがないかを調べていきます。"
   ]
  },
  {
   "cell_type": "code",
   "execution_count": 14,
   "metadata": {
    "collapsed": false
   },
   "outputs": [
    {
     "name": "stdout",
     "output_type": "stream",
     "text": [
      "[0]:  1005\n",
      "[1]:  974\n",
      "[2]:  1032\n",
      "[3]:  1016\n",
      "[4]:  999\n",
      "[5]:  937\n",
      "[6]:  1030\n",
      "[7]:  1001\n",
      "[8]:  1025\n",
      "[9]:  981\n"
     ]
    }
   ],
   "source": [
    "for i in xrange(10):\n",
    "    print '[%d]: ' % i, data['labels'].count(i)"
   ]
  },
  {
   "cell_type": "markdown",
   "metadata": {},
   "source": [
    "どうやら、各要素1000個前後に分かれており、それほどのばらつきはなさそうです。ということで、data_batch_1とtest_batchを使って、MLPに与えるデータ・セットを作っていきましょう。"
   ]
  },
  {
   "cell_type": "markdown",
   "metadata": {},
   "source": [
    "# Cifar10とMLP（「ハリーポッターと賢者の石」的な・・）"
   ]
  },
  {
   "cell_type": "markdown",
   "metadata": {},
   "source": [
    "さて、ではこれらのデータをこれまたこれまで作ったMLPで学習しましょう。MLPの定義を思い出すと、\n",
    "\n",
    "```\n",
    "class MLP(object):\n",
    "\tdef __init__(\n",
    "\t\tself,\n",
    "\t\tdata,\n",
    "\t\ttarget,\n",
    "\t\tn_inputs=784,\n",
    "\t\tn_hidden=784,\n",
    "\t\tn_outputs=10,\n",
    "\t\tgpu=-1\n",
    "\t):\n",
    "...\n",
    "```\n",
    "\n",
    "ということで、入力と出力の次元数を調整できるので、次元数が増えても普通に対応できそうです。なので、後は、これに当てはまるように、データを整形してあげれば良いんですね。まずは、main関数ででてくるdata, targetを作っていきましょう。"
   ]
  },
  {
   "cell_type": "code",
   "execution_count": 24,
   "metadata": {
    "collapsed": false
   },
   "outputs": [
    {
     "name": "stdout",
     "output_type": "stream",
     "text": [
      "data_train:  (10000, 3072) [[ 0.23137255  0.16862746  0.19607843 ...,  0.54901963  0.32941177\n",
      "   0.28235295]\n",
      " [ 0.60392159  0.49411765  0.41176471 ...,  0.54509807  0.55686277\n",
      "   0.56470591]\n",
      " [ 1.          0.99215686  0.99215686 ...,  0.32549021  0.32549021\n",
      "   0.32941177]\n",
      " ..., \n",
      " [ 0.10980392  0.11764706  0.12941177 ...,  0.39215687  0.3882353\n",
      "   0.3764706 ]\n",
      " [ 0.52549022  0.51372552  0.50196081 ...,  0.53333336  0.53725493\n",
      "   0.5411765 ]\n",
      " [ 0.49019608  0.43137255  0.40000001 ...,  0.32156864  0.32941177\n",
      "   0.33725491]]\n",
      "target_train:  (10000,) [6 9 9 4 1 1 2 7 8 3]\n",
      "data_test:  (10000, 3072) [[ 0.23137255  0.16862746  0.19607843 ...,  0.54901963  0.32941177\n",
      "   0.28235295]\n",
      " [ 0.60392159  0.49411765  0.41176471 ...,  0.54509807  0.55686277\n",
      "   0.56470591]\n",
      " [ 1.          0.99215686  0.99215686 ...,  0.32549021  0.32549021\n",
      "   0.32941177]\n",
      " ..., \n",
      " [ 0.10980392  0.11764706  0.12941177 ...,  0.39215687  0.3882353\n",
      "   0.3764706 ]\n",
      " [ 0.52549022  0.51372552  0.50196081 ...,  0.53333336  0.53725493\n",
      "   0.5411765 ]\n",
      " [ 0.49019608  0.43137255  0.40000001 ...,  0.32156864  0.32941177\n",
      "   0.33725491]]\n",
      "target_test:  (10000,) [6 9 9 4 1 1 2 7 8 3]\n"
     ]
    }
   ],
   "source": [
    "import numpy\n",
    "\n",
    "with open('cifar-10-batches-py/data_batch_1', 'rb') as fp:\n",
    "    train = pickle.load(fp)\n",
    "\n",
    "data_train = train['data'].astype(numpy.float32)\n",
    "data_train /= 255.\n",
    "target_train = numpy.array(train['labels']).astype(numpy.int32)\n",
    "\n",
    "with open('cifar-10-batches-py/test_batch', 'rb') as fp:\n",
    "    test = pickle.load(fp)\n",
    "\n",
    "data_test = test['data'].astype(numpy.float32)\n",
    "data_test /= 255.\n",
    "target_test = numpy.array(test['labels']).astype(numpy.int32)\n",
    "\n",
    "print 'data_train: ', data_train.shape, data_train[:10]\n",
    "print 'target_train: ', target_train.shape, target_train[:10]\n",
    "print 'data_test: ', data_test.shape, data_train[:10]\n",
    "print 'target_test: ', target_test.shape, target_train[:10]\n"
   ]
  },
  {
   "cell_type": "markdown",
   "metadata": {},
   "source": [
    "ここでは、便利関数train_test_splitを使いませんでした。何故かと言うとlabelデータを見ると既にデータがシャッフルされているからです。厳密に行いたい場合は、再シャッフルをすると良いかもしれませんが、サンプルとして使う分には問題無いでしょう。では、いよいよ、MLPで学習してみましょう。ここからは、MLP.pyのmain関数をほぼほぼコピーしながら進めることができます。"
   ]
  },
  {
   "cell_type": "code",
   "execution_count": 31,
   "metadata": {
    "collapsed": false
   },
   "outputs": [
    {
     "name": "stderr",
     "output_type": "stream",
     "text": [
      "INFO:root:epoch 1\n",
      "INFO:root:train mean loss=2.26053388834, accuracy=0.178700000271\n",
      "INFO:root:test mean loss=2.01086740851, accuracy=0.276900000721\n"
     ]
    },
    {
     "name": "stdout",
     "output_type": "stream",
     "text": [
      "time = 0.184891434511 min\n"
     ]
    }
   ],
   "source": [
    "import time\n",
    "import logging\n",
    "reload(logging)\n",
    "logging.basicConfig(level=logging.DEBUG)\n",
    "\n",
    "from mlp import MLP\n",
    "\n",
    "data = data_train, data_test\n",
    "target = target_train, target_test\n",
    "\n",
    "start_time = time.time()\n",
    "\n",
    "mlp = MLP(data=data, target=target, gpu=-1, n_inputs=3072, n_outputs=10)\n",
    "mlp.train_and_test(n_epoch=1)\n",
    "\n",
    "end_time = time.time()\n",
    "\n",
    "print(\"time = {} min\".format((end_time - start_time) / 60.0))"
   ]
  },
  {
   "cell_type": "markdown",
   "metadata": {},
   "source": [
    "さて、ここまでが簡単なCifar-10におけるデータの処理方法でした。しかしながら、見てみると分かる通り、識別率は20%前後と一般物体認識はMNISTと比べると、難しい課題であることがわかります。ということで、画像認識に特化していると言われるCNNを使って、Cifar-10の識別をしてみましょう。"
   ]
  },
  {
   "cell_type": "markdown",
   "metadata": {},
   "source": [
    "# Cifar10とCNN(「ハリーポッターと不死鳥の騎士団」的な・・)\n",
    "\n",
    "CNNを使って、Cifar10を学習する際の注意点は以下の2つです。\n",
    "\n",
    "* CNNModelの変更。画像サイズ・チャネル数が変わるので、MLPの展開をしたときの次元数が代わります\n",
    "* データを2次元から4次元（データ数xチャネル数x縦x横）似直す必要があります\n",
    "\n",
    "ということで、これらを変更して、Cifar10を学習できるCNNのクラスを作りましょう。というのが本日の課題です。頑張って取り組んでいきましょう！"
   ]
  },
  {
   "cell_type": "code",
   "execution_count": null,
   "metadata": {
    "collapsed": true
   },
   "outputs": [],
   "source": []
  }
 ],
 "metadata": {
  "kernelspec": {
   "display_name": "Python 2",
   "language": "python",
   "name": "python2"
  },
  "language_info": {
   "codemirror_mode": {
    "name": "ipython",
    "version": 2
   },
   "file_extension": ".py",
   "mimetype": "text/x-python",
   "name": "python",
   "nbconvert_exporter": "python",
   "pygments_lexer": "ipython2",
   "version": "2.7.9"
  }
 },
 "nbformat": 4,
 "nbformat_minor": 0
}
